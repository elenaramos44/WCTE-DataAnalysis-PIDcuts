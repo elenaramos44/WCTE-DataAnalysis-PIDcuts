{
 "cells": [
  {
   "cell_type": "code",
   "execution_count": 1,
   "metadata": {},
   "outputs": [],
   "source": [
    "import numpy as np\n",
    "import pandas as pd\n",
    "import matplotlib.pyplot as plt\n",
    "import scipy.stats as stats\n",
    "import uproot\n",
    "import awkward as ak\n",
    "%matplotlib inline"
   ]
  },
  {
   "cell_type": "code",
   "execution_count": 2,
   "metadata": {},
   "outputs": [
    {
     "name": "stdout",
     "output_type": "stream",
     "text": [
      "Data keys ['WCTEReadoutWindows;68', 'WCTEReadoutWindows;67', 'h_n_triggers_diff;1']\n",
      "MC keys ['Tracks;1', 'CherenkovDigiHits;1', 'Trigger;1', 'WCTEReadoutWindows;1']\n"
     ]
    }
   ],
   "source": [
    "data_path = \"/scratch/elena/WCTE-DataAnalysis-PIDcuts/MCDataComperison/root_files/data/WCTE_offline_R1574S0_VME1558.root\"\n",
    "mc_path = \"/scratch/elena/WCTE-DataAnalysis-PIDcuts/MCDataComperison/root_files/mc/pi+_260MeVc_1000evts_masked.root\"\n",
    "\n",
    "data = uproot.open(data_path)\n",
    "mc = uproot.open(mc_path)\n",
    "\n",
    "print(\"Data keys\", data.keys())\n",
    "print(\"MC keys\", mc.keys())"
   ]
  },
  {
   "cell_type": "code",
   "execution_count": 3,
   "metadata": {},
   "outputs": [
    {
     "name": "stdout",
     "output_type": "stream",
     "text": [
      "Data <TTree 'WCTEReadoutWindows' (34 branches) at 0x7fae105dd850>: ['beamline_pmt_qdc_charges', 'beamline_pmt_qdc_ids', 'beamline_pmt_tdc_ids', 'beamline_pmt_tdc_times', 'event_number', 'hit_mpmt_card_ids', 'hit_mpmt_slot_ids', 'hit_pmt_channel_ids', 'hit_pmt_charges', 'hit_pmt_position_ids', 'hit_pmt_times', 'led_card_ids', 'led_counters', 'led_dacsettings', 'led_event_types', 'led_gains', 'led_ids', 'led_sequence_numbers', 'led_slot_numbers', 'led_types', 'pmt_waveform_mpmt_card_ids', 'pmt_waveform_mpmt_slot_ids', 'pmt_waveform_pmt_channel_ids', 'pmt_waveform_pmt_position_ids', 'pmt_waveform_times', 'pmt_waveforms', 'readout_number', 'run_id', 'spill_counter', 'start_counter', 'sub_run_id', 'trigger_times', 'trigger_types', 'window_time']\n",
      "MC <TTree 'WCTEReadoutWindows' (28 branches) at 0x7fad769f24d0>: ['beamline_pmt_qdc_charges', 'beamline_pmt_qdc_ids', 'beamline_pmt_tdc_ids', 'beamline_pmt_tdc_times', 'event_number', 'hit_mpmt_card_ids', 'hit_mpmt_slot_ids', 'hit_pmt_channel_ids', 'hit_pmt_charges', 'hit_pmt_position_ids', 'hit_pmt_times', 'led_card_ids', 'led_counters', 'led_dacsettings', 'led_event_types', 'led_gains', 'led_ids', 'led_sequence_numbers', 'led_slot_numbers', 'led_types', 'readout_number', 'run_id', 'spill_counter', 'start_counter', 'sub_run_id', 'trigger_times', 'trigger_types', 'window_time']\n"
     ]
    }
   ],
   "source": [
    "data_tree = data[\"WCTEReadoutWindows\"]\n",
    "mc_tree = mc[\"WCTEReadoutWindows\"]\n",
    "\n",
    "print(f\"Data {data_tree}:\", sorted(data_tree.keys()))\n",
    "print(f\"MC {mc_tree}:\", sorted(mc_tree.keys()))"
   ]
  },
  {
   "cell_type": "code",
   "execution_count": 12,
   "metadata": {},
   "outputs": [
    {
     "name": "stdout",
     "output_type": "stream",
     "text": [
      "[[12, 13, 5, 14, 15, 7, 16, 17, 9, 18, ... 54, 55, 56, 57, 58, 59, 60, 61, 62, 63]]\n",
      "44257\n",
      "Type of data_beam_pmt_qdc_ids: 44257 * var * int32\n",
      "Type of data_event_num: 44257 * int32\n",
      "-------------------------------------------------------------------------------------------------\n",
      "[[0], [0], [0], [0], [0], [0], [0], [0], ... [0], [0], [0], [0], [0], [0], [0], [0]]\n",
      "3000\n",
      "Type of mc_beam_pmt_qdc_ids: 3000 * var * int32\n",
      "Type of mc_event_num: 3000 * int32\n"
     ]
    }
   ],
   "source": [
    "#Data \n",
    "\n",
    "data_beam_pmt_qdc_ids = data_tree[\"beamline_pmt_qdc_ids\"].array()\n",
    "data_event_num = data_tree[\"event_number\"].array()\n",
    "\n",
    "print(data_beam_pmt_qdc_ids)   #array of array, each per event, i.e. jagged array\n",
    "print(len(data_beam_pmt_qdc_ids)) # number of events in data in this case\n",
    "\n",
    "print(\"Type of data_beam_pmt_qdc_ids:\", ak.type(data_beam_pmt_qdc_ids))\n",
    "print(\"Type of data_event_num:\", ak.type(data_event_num))\n",
    "\n",
    "\n",
    "print(\"-------------------------------------------------------------------------------------------------\")\n",
    "\n",
    "#MC\n",
    "\n",
    "mc_beam_pmt_qdc_ids = mc_tree['beamline_pmt_qdc_ids'].array()\n",
    "mc_event_num = mc_tree[\"event_number\"].array()\n",
    "\n",
    "print(mc_beam_pmt_qdc_ids)   #array of array, each per event, i.e. jagged array\n",
    "print(len(mc_beam_pmt_qdc_ids)) # number of events in mc in this case\n",
    "\n",
    "print(\"Type of mc_beam_pmt_qdc_ids:\", ak.type(mc_beam_pmt_qdc_ids))\n",
    "print(\"Type of mc_event_num:\", ak.type(mc_event_num))\n",
    "\n"
   ]
  },
  {
   "cell_type": "code",
   "execution_count": 45,
   "metadata": {},
   "outputs": [],
   "source": [
    "branches = [\n",
    "    'event_number',\n",
    "    'hit_mpmt_card_ids',\n",
    "    'hit_mpmt_slot_ids',\n",
    "    'hit_pmt_channel_ids',\n",
    "    'hit_pmt_position_ids',\n",
    "    'hit_pmt_charges',\n",
    "    'hit_pmt_times',\n",
    "    'trigger_types',\n",
    "    'window_time'\n",
    "]\n",
    "\n",
    "data_arrays = {name: data_tree[name].array() for name in branches}    #load arrays (branches) from the tree\n",
    "mc_arrays = {name: mc_tree[name].array() for name in branches}\n",
    "\n",
    "def make_flat_df(branch_name):\n",
    "    data_flat = ak.flatten(data_arrays[branch_name], axis=None)\n",
    "    mc_flat = ak.flatten(mc_arrays[branch_name], axis=None)\n",
    "\n",
    "    df_data = pd.DataFrame({branch_name: data_flat, \"source\": \"data\"})\n",
    "    df_mc = pd.DataFrame({branch_name: mc_flat, \"source\": \"mc\"})\n",
    "\n",
    "    return pd.concat([df_data, df_mc], ignore_index=True)\n",
    "\n",
    "#with the function above, we generate a unique df for one branch with both files info, data and mc\n",
    "\n",
    "df = {branch: make_flat_df(branch) for branch in branches}\n"
   ]
  },
  {
   "cell_type": "code",
   "execution_count": 46,
   "metadata": {},
   "outputs": [
    {
     "name": "stdout",
     "output_type": "stream",
     "text": [
      "   hit_pmt_charges source\n",
      "0            122.0   data\n",
      "1             56.0   data\n",
      "2            287.0   data\n",
      "3            101.0   data\n",
      "4            152.0   data\n"
     ]
    }
   ],
   "source": [
    "print(df['hit_pmt_charges'].head())    #MC charge is in PE, in Data is in ADC. No comversion factor to PE available yet "
   ]
  },
  {
   "cell_type": "code",
   "execution_count": 47,
   "metadata": {},
   "outputs": [
    {
     "name": "stdout",
     "output_type": "stream",
     "text": [
      "   hit_pmt_charges source\n",
      "0            122.0   data\n",
      "1             56.0   data\n",
      "2            287.0   data\n",
      "3            101.0   data\n",
      "4            152.0   data\n",
      "Index(['hit_pmt_charges', 'source'], dtype='object')\n"
     ]
    }
   ],
   "source": [
    "\n",
    "print(df[\"hit_pmt_charges\"].head())\n",
    "print(df[\"hit_pmt_charges\"].columns)"
   ]
  },
  {
   "cell_type": "code",
   "execution_count": 49,
   "metadata": {},
   "outputs": [
    {
     "data": {
      "image/png": "[encoded data removed]",
      "text/plain": [
       "<Figure size 1000x600 with 1 Axes>"
      ]
     },
     "metadata": {},
     "output_type": "display_data"
    }
   ],
   "source": [
    "df_charges = df[\"hit_pmt_charges\"]\n",
    "\n",
    "# Aplicar máscaras para separar data vs MC\n",
    "data_charges = df_charges.loc[df_charges[\"source\"] == \"data\", \"hit_pmt_charges\"]\n",
    "mc_charges = df_charges.loc[df_charges[\"source\"] == \"mc\", \"hit_pmt_charges\"] * 160  # Escala para MC\n",
    "\n",
    "# Filtro para limitar el rango a [0, 1000]\n",
    "data_charges = data_charges[(data_charges >= 0) & (data_charges <= 1000)]\n",
    "mc_charges = mc_charges[(mc_charges >= 0) & (mc_charges <= 1000)]\n",
    "\n",
    "# Bins fijos\n",
    "bins = np.linspace(0, 1000, 100)\n",
    "\n",
    "# Plot\n",
    "plt.figure(figsize=(10, 6))\n",
    "plt.hist(data_charges, bins=bins, alpha=0.6, label='Data', histtype='stepfilled', density=True)\n",
    "plt.hist(mc_charges, bins=bins, alpha=0.6, label='MC × 160', histtype='stepfilled', density=True)\n",
    "\n",
    "# Estética\n",
    "plt.xlabel('Hit PMT Charges (QDC scale)')\n",
    "plt.ylabel('Normalized Frequency')\n",
    "plt.title('Histogram of Hit PMT Charges: Data vs MC (scaled)')\n",
    "plt.legend()\n",
    "plt.grid(True)\n",
    "plt.tight_layout()\n",
    "plt.xlim(0, 1000)\n",
    "\n",
    "plt.show()"
   ]
  },
  {
   "cell_type": "code",
   "execution_count": null,
   "metadata": {},
   "outputs": [],
   "source": []
  },
  {
   "cell_type": "code",
   "execution_count": null,
   "metadata": {},
   "outputs": [],
   "source": []
  },
  {
   "cell_type": "code",
   "execution_count": null,
   "metadata": {},
   "outputs": [],
   "source": []
  },
  {
   "cell_type": "code",
   "execution_count": null,
   "metadata": {},
   "outputs": [],
   "source": []
  },
  {
   "cell_type": "code",
   "execution_count": null,
   "metadata": {},
   "outputs": [],
   "source": []
  },
  {
   "cell_type": "code",
   "execution_count": null,
   "metadata": {},
   "outputs": [],
   "source": []
  },
  {
   "cell_type": "code",
   "execution_count": null,
   "metadata": {},
   "outputs": [],
   "source": []
  },
  {
   "cell_type": "code",
   "execution_count": null,
   "metadata": {},
   "outputs": [],
   "source": []
  },
  {
   "cell_type": "code",
   "execution_count": null,
   "metadata": {},
   "outputs": [],
   "source": []
  },
  {
   "cell_type": "markdown",
   "metadata": {},
   "source": [
    "I was trying to create a single DataFrame with all the info together, for what we needed to broadcast those flat_arrays (e.g. 'event_number', porque solo es un 1 para el evento 2, pues poner [2 2 2 2 2 2 2] para cada valor de 'hit_pmt_charge'); this is caussing problems since \"trying to shove everything into a single DataFrame via ak.flatten → ak.to_pandas() is only safe if all nested structures align exactly, which in your case… they don’t.\""
   ]
  },
  {
   "cell_type": "markdown",
   "metadata": {},
   "source": [
    "branches = [\n",
    "    'event_number',\n",
    "    'hit_mpmt_card_ids',\n",
    "    'hit_mpmt_slot_ids',\n",
    "    'hit_pmt_channel_ids',\n",
    "    'hit_pmt_position_ids',\n",
    "    'hit_pmt_charges',\n",
    "    'hit_pmt_times',\n",
    "    'trigger_types',\n",
    "    'window_time'\n",
    "]\n",
    "\n",
    "data_arrays = {name: data_tree[name].array() for name in branches}    #load arrays (branches) from the tree\n",
    "mc_arrays = {name: mc_tree[name].array() for name in branches}\n",
    "\n",
    "def broadcast_event_info(flat_array, jagged_reference):\n",
    "    #if flat_array is flat (NumpyArray), broadcast it\n",
    "    if isinstance(flat_array.layout, ak.layout.NumpyArray):\n",
    "        broadcasted, _ = ak.broadcast_arrays(flat_array, jagged_reference)\n",
    "        return broadcasted\n",
    "    else:\n",
    "        return flat_array #if it is already jagged, return as is (no broadcasting)\n",
    "\n",
    "#Pasamos la función, cogemos \"hit_pmt_charges\" como referencia de jagged array\n",
    "\n",
    "event_number_broadcast = broadcast_event_info(data_arrays['event_number'], data_arrays['hit_pmt_charges'])\n",
    "#window_time_broadcast = broadcast_event_info(data_arrays['window_time'], data_arrays['hit_pmt_charges'])\n",
    "#trigger_type_broadcast = broadcast_event_info(data_arrays['trigger_types'], data_arrays['hit_pmt_charges'])\n",
    "\n",
    "\n",
    "#zip data hits\n",
    "data_hits = ak.zip({\n",
    "    \"event_number\": event_number_broadcast,\n",
    "    \"card_id\": data_arrays['hit_mpmt_card_ids'],\n",
    "    \"slot_id\": data_arrays['hit_mpmt_slot_ids'],\n",
    "    \"channel_id\": data_arrays['hit_pmt_channel_ids'],\n",
    "    \"position_id\": data_arrays['hit_pmt_position_ids'],\n",
    "    \"charge\": data_arrays['hit_pmt_charges'],\n",
    "    \"time\": data_arrays['hit_pmt_times']\n",
    "    #\"window_time\": window_time_broadcast\n",
    "})\n",
    "\n",
    "#Idem for MC\n",
    "event_number_broadcast_mc = broadcast_event_info(mc_arrays['event_number'], mc_arrays['hit_pmt_charges'])\n",
    "#window_time_broadcast_mc = broadcast_event_info(mc_arrays['window_time'], mc_arrays['hit_pmt_charges'])\n",
    "#trigger_type_broadcast_mc = broadcast_event_info(mc_arrays['trigger_types'], mc_arrays['hit_pmt_charges'])\n",
    "\n",
    "#zip MC hits\n",
    "mc_hits = ak.zip({\n",
    "    \"event_number\": event_number_broadcast_mc,\n",
    "    \"card_id\": mc_arrays['hit_mpmt_card_ids'],\n",
    "    \"slot_id\": mc_arrays['hit_mpmt_slot_ids'],\n",
    "    \"channel_id\": mc_arrays['hit_pmt_channel_ids'],\n",
    "    \"position_id\": mc_arrays['hit_pmt_position_ids'],\n",
    "    \"charge\": mc_arrays['hit_pmt_charges'],\n",
    "    \"time\": mc_arrays['hit_pmt_times']\n",
    "    #\"window_time\": window_time_broadcast_mc\n",
    "})\n",
    "\n",
    "\n",
    "#ak.flatten() takes the nested (jagged) array and concatenates all inner lists into one long, flat array\n",
    "flat_data_hits = ak.flatten(data_hits)\n",
    "flat_mc_hits = ak.flatten(mc_hits)\n",
    "\n",
    "#pandas DataFrame\n",
    "df_data = ak.to_pandas(flat_data_hits)\n",
    "df_mc = ak.to_pandas(flat_mc_hits)\n",
    "\n",
    "\n",
    "df_data[\"source\"] = \"data\"\n",
    "df_mc[\"source\"] = \"mc\"\n",
    "\n",
    "\n",
    "print(\"Data preview:\")\n",
    "print(df_data.head())\n",
    "\n",
    "print(\"\\nMC preview:\")\n",
    "print(df_mc.head())"
   ]
  }
 ],
 "metadata": {
  "kernelspec": {
   "display_name": "Python (WCTE)",
   "language": "python",
   "name": "wcte_env"
  },
  "language_info": {
   "codemirror_mode": {
    "name": "ipython",
    "version": 3
   },
   "file_extension": ".py",
   "mimetype": "text/x-python",
   "name": "python",
   "nbconvert_exporter": "python",
   "pygments_lexer": "ipython3",
   "version": "3.7.4"
  }
 },
 "nbformat": 4,
 "nbformat_minor": 2
}
